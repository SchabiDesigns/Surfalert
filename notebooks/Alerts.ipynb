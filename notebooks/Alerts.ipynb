{
 "cells": [
  {
   "attachments": {},
   "cell_type": "markdown",
   "metadata": {},
   "source": [
    "<img src=\"https://www.ost.ch/typo3conf/ext/template/Resources/Public/Images/logo-de.svg\" width=\"300\" height=\"250\" align=\"right\"/>\n",
    "\n",
    "# Benachrichtigung - Telegram \n",
    "\n",
    "von <a href=\"mailto:pascal.schaback@ost.ch\"> Pascal Schaback</a>  \n",
    "\n",
    "Referent: <a href=\"mailto:christoph.wuersch@ost.ch\"> Christoph Würsch </a>  \n",
    "Co-Referent: <a href=\"mailto:klaus.frick@ost.ch\"> Klaus Frick </a>\n",
    "\n",
    "## Inhalt\n",
    "- Senden von Nachrichten via Telegram\n",
    "- Senden von Nachrichten via E-Mail"
   ]
  },
  {
   "attachments": {},
   "cell_type": "markdown",
   "metadata": {},
   "source": [
    "## Telegram"
   ]
  },
  {
   "attachments": {},
   "cell_type": "markdown",
   "metadata": {},
   "source": [
    "[Telethon](https://github.com/LonamiWebs/Telethon)"
   ]
  },
  {
   "cell_type": "code",
   "execution_count": 1,
   "metadata": {},
   "outputs": [],
   "source": [
    "import os\n",
    "import sys\n",
    "module_path = os.path.abspath(os.path.join('..'))\n",
    "if module_path not in sys.path:\n",
    "    sys.path.append(module_path)"
   ]
  },
  {
   "cell_type": "code",
   "execution_count": 2,
   "metadata": {},
   "outputs": [],
   "source": [
    "from src import telegram\n",
    "from src.caching import load_credentials"
   ]
  },
  {
   "cell_type": "code",
   "execution_count": null,
   "metadata": {},
   "outputs": [],
   "source": [
    "import asyncio\n",
    "loop = asyncio.get_event_loop()\n",
    "asyncio.run_coroutine_threadsafe(\n",
    "    telegram.send_message(\"me\", \"TestNachricht\"), \n",
    "    loop)"
   ]
  }
 ],
 "metadata": {
  "kernelspec": {
   "display_name": "venv",
   "language": "python",
   "name": "python3"
  },
  "language_info": {
   "codemirror_mode": {
    "name": "ipython",
    "version": 3
   },
   "file_extension": ".py",
   "mimetype": "text/x-python",
   "name": "python",
   "nbconvert_exporter": "python",
   "pygments_lexer": "ipython3",
   "version": "3.9.1"
  },
  "orig_nbformat": 4,
  "vscode": {
   "interpreter": {
    "hash": "3465041af17365520ce304cab63d201ae211670f6371a7cbcd0af4c3474595a0"
   }
  }
 },
 "nbformat": 4,
 "nbformat_minor": 2
}
