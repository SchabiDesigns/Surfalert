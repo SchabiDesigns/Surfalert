{
 "cells": [
  {
   "attachments": {},
   "cell_type": "markdown",
   "metadata": {},
   "source": [
    "<img src=\"https://www.ost.ch/typo3conf/ext/template/Resources/Public/Images/logo-de.svg\" width=\"300\" height=\"250\" align=\"right\"/>\n",
    "\n",
    "# Allgemein\n",
    "\n",
    "von <a href=\"mailto:pascal.schaback@ost.ch\"> Pascal Schaback</a>  \n",
    "\n",
    "Referent: <a href=\"mailto:christoph.wuersch@ost.ch\"> Christoph Würsch </a>  \n",
    "Co-Referent: <a href=\"mailto:klaus.frick@ost.ch\"> Klaus Frick </a>\n",
    "\n",
    "\n",
    "## Inhalt\n",
    "- Starten der Webapplikation\n",
    "- Testen des Cronjobs und der implementierten Methoden\n",
    "- Testen des Telegram Clients\n",
    "- Modellgrössen reduzieren durch entfernen der Trainings und Testdaten"
   ]
  },
  {
   "attachments": {},
   "cell_type": "markdown",
   "metadata": {},
   "source": [
    "## Start Applikation"
   ]
  },
  {
   "cell_type": "code",
   "execution_count": null,
   "metadata": {},
   "outputs": [
    {
     "name": "stdout",
     "output_type": "stream",
     "text": [
      "^C\n"
     ]
    }
   ],
   "source": [
    "!streamlit run Surfalarm.py"
   ]
  },
  {
   "attachments": {},
   "cell_type": "markdown",
   "metadata": {},
   "source": [
    "## CHANGE METEOMATICS LIBARY!\n",
    "Line 171 of meteomatics api\n",
    "> sl.drop('Location Lat,Lon', axis=1, inplace=True)"
   ]
  },
  {
   "attachments": {},
   "cell_type": "markdown",
   "metadata": {},
   "source": [
    "## Start Cronjop"
   ]
  },
  {
   "cell_type": "code",
   "execution_count": 4,
   "metadata": {},
   "outputs": [
    {
     "name": "stdout",
     "output_type": "stream",
     "text": [
      "load models...\n",
      "loading models...\n",
      "ColumnTransformer\n",
      "combi\n",
      "dt\n",
      "lin_lasso\n",
      "lin_ridge\n",
      "mlp\n",
      "mlp_opt\n",
      "rf\n",
      "define jobs...\n",
      "start loop every 2min...\n",
      "check for new datasets...\n"
     ]
    },
    {
     "name": "stderr",
     "output_type": "stream",
     "text": [
      "  4%|▍         | 1/23 [00:00<00:02,  9.44it/s]"
     ]
    },
    {
     "name": "stdout",
     "output_type": "stream",
     "text": [
      "loading new data...\n"
     ]
    },
    {
     "name": "stderr",
     "output_type": "stream",
     "text": [
      "100%|██████████| 23/23 [00:03<00:00,  7.49it/s]\n",
      "100%|██████████| 23/23 [00:00<00:00, 248.78it/s]\n"
     ]
    },
    {
     "name": "stdout",
     "output_type": "stream",
     "text": [
      "make predictions...\n",
      "update figures...\n"
     ]
    },
    {
     "name": "stderr",
     "output_type": "stream",
     "text": [
      "100%|██████████| 1/1 [00:00<00:00, 37.17it/s]\n"
     ]
    },
    {
     "name": "stdout",
     "output_type": "stream",
     "text": [
      "check for new datasets...\n",
      "already up to date!\n"
     ]
    },
    {
     "ename": "KeyboardInterrupt",
     "evalue": "",
     "output_type": "error",
     "traceback": [
      "\u001b[1;31m---------------------------------------------------------------------------\u001b[0m",
      "\u001b[1;31mKeyboardInterrupt\u001b[0m                         Traceback (most recent call last)",
      "File \u001b[1;32m~\\GIT\\Surfalert\\src\\predict_cron.py:33\u001b[0m\n\u001b[0;32m     30\u001b[0m     \u001b[39mprint\u001b[39m(\u001b[39m\"\u001b[39m\u001b[39mstart loop every 2min...\u001b[39m\u001b[39m\"\u001b[39m)\n\u001b[0;32m     32\u001b[0m schedule\u001b[39m.\u001b[39mrun_pending()\n\u001b[1;32m---> 33\u001b[0m time\u001b[39m.\u001b[39;49msleep(\u001b[39m1\u001b[39;49m)\n",
      "\u001b[1;31mKeyboardInterrupt\u001b[0m: "
     ]
    }
   ],
   "source": [
    "%run src/predict_cron.py"
   ]
  },
  {
   "attachments": {},
   "cell_type": "markdown",
   "metadata": {},
   "source": [
    "## Check Telegram"
   ]
  },
  {
   "cell_type": "code",
   "execution_count": 2,
   "metadata": {},
   "outputs": [],
   "source": [
    "import nest_asyncio\n",
    "nest_asyncio.apply()\n",
    "\n",
    "from src import telegram"
   ]
  },
  {
   "cell_type": "code",
   "execution_count": 3,
   "metadata": {},
   "outputs": [
    {
     "name": "stdout",
     "output_type": "stream",
     "text": [
      "Signed in successfully as Schabi; remember to not break the ToS or you will risk an account ban!\n"
     ]
    }
   ],
   "source": [
    "%run src/telegram.py"
   ]
  },
  {
   "attachments": {},
   "cell_type": "markdown",
   "metadata": {},
   "source": [
    "## Modelle verkleinern"
   ]
  },
  {
   "cell_type": "code",
   "execution_count": 2,
   "metadata": {},
   "outputs": [],
   "source": [
    "from src import prediction\n",
    "import pickle"
   ]
  },
  {
   "cell_type": "code",
   "execution_count": 3,
   "metadata": {},
   "outputs": [
    {
     "name": "stdout",
     "output_type": "stream",
     "text": [
      "loading models...\n",
      "ColumnTransformer\n",
      "combi\n",
      "dt\n",
      "lin_lasso\n",
      "lin_ridge\n",
      "mlp\n",
      "mlp_opt\n",
      "rf\n"
     ]
    }
   ],
   "source": [
    "models, ct = prediction.load_models()\n",
    "backup = models.copy()"
   ]
  },
  {
   "cell_type": "code",
   "execution_count": 4,
   "metadata": {},
   "outputs": [
    {
     "name": "stdout",
     "output_type": "stream",
     "text": [
      "combi\n",
      "save backup in archive...\n",
      "delete some unneeded data...\n",
      "dt\n",
      "save backup in archive...\n",
      "delete some unneeded data...\n",
      "lin_lasso\n",
      "save backup in archive...\n",
      "delete some unneeded data...\n",
      "lin_ridge\n",
      "save backup in archive...\n",
      "delete some unneeded data...\n",
      "mlp\n",
      "save backup in archive...\n",
      "delete some unneeded data...\n",
      "mlp_opt\n",
      "save backup in archive...\n",
      "delete some unneeded data...\n",
      "rf\n",
      "save backup in archive...\n",
      "delete some unneeded data...\n"
     ]
    }
   ],
   "source": [
    "for name, model in models.items():\n",
    "    print(name)\n",
    "    print(\"save backup in archive...\")\n",
    "    with open(\"src/models/Archiv/\"+name+\".pickle\", \"wb\") as handle:\n",
    "        pickle.dump(model, handle, protocol=pickle.HIGHEST_PROTOCOL)\n",
    "    print(\"delete some unneeded data...\")\n",
    "    model[\"X\"] = model[\"X\"].iloc[0:0]\n",
    "    for y_name, y in model[\"Y\"].items():\n",
    "        model[\"Y\"][y_name] =model[\"Y\"][y_name].iloc[0:0]\n",
    "    with open(\"src/models/\"+name+\".pickle\", \"wb\") as handle:\n",
    "        pickle.dump(model, handle, protocol=pickle.HIGHEST_PROTOCOL)"
   ]
  }
 ],
 "metadata": {
  "kernelspec": {
   "display_name": "venv",
   "language": "python",
   "name": "python3"
  },
  "language_info": {
   "codemirror_mode": {
    "name": "ipython",
    "version": 3
   },
   "file_extension": ".py",
   "mimetype": "text/x-python",
   "name": "python",
   "nbconvert_exporter": "python",
   "pygments_lexer": "ipython3",
   "version": "3.9.1"
  },
  "orig_nbformat": 4,
  "vscode": {
   "interpreter": {
    "hash": "7a4cab3bd0e564f15b6520953ddbd9e76ef782904050b6f8dd0b19015c3cae0c"
   }
  }
 },
 "nbformat": 4,
 "nbformat_minor": 2
}
