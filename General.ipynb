{
 "cells": [
  {
   "attachments": {},
   "cell_type": "markdown",
   "metadata": {},
   "source": [
    "<img src=\"https://www.ost.ch/typo3conf/ext/template/Resources/Public/Images/logo-de.svg\" width=\"300\" height=\"250\" align=\"right\"/>\n",
    "\n",
    "# Allgemein\n",
    "\n",
    "von <a href=\"mailto:pascal.schaback@ost.ch\"> Pascal Schaback</a>  \n",
    "\n",
    "Referent: <a href=\"mailto:christoph.wuersch@ost.ch\"> Christoph Würsch </a>  \n",
    "Co-Referent: <a href=\"mailto:klaus.frick@ost.ch\"> Klaus Frick </a>\n",
    "\n",
    "\n",
    "## Inhalt\n",
    "- Starten der Webapplikation\n",
    "- Testen des Cronjobs und der implementierten Methoden\n",
    "- Testen des Telegram Clients\n",
    "- Modellgrössen reduzieren durch entfernen der Trainings und Testdaten"
   ]
  },
  {
   "attachments": {},
   "cell_type": "markdown",
   "metadata": {},
   "source": [
    "## Start Applikation"
   ]
  },
  {
   "cell_type": "code",
   "execution_count": 2,
   "metadata": {},
   "outputs": [
    {
     "name": "stdout",
     "output_type": "stream",
     "text": [
      "^C\n"
     ]
    }
   ],
   "source": [
    "!streamlit run Surfalarm.py"
   ]
  },
  {
   "attachments": {},
   "cell_type": "markdown",
   "metadata": {},
   "source": [
    "## Start Cronjop"
   ]
  },
  {
   "cell_type": "code",
   "execution_count": null,
   "metadata": {},
   "outputs": [],
   "source": [
    "%run src/predict_cron.py"
   ]
  },
  {
   "attachments": {},
   "cell_type": "markdown",
   "metadata": {},
   "source": [
    "## Check Telegram"
   ]
  },
  {
   "cell_type": "code",
   "execution_count": null,
   "metadata": {},
   "outputs": [],
   "source": [
    "import nest_asyncio\n",
    "nest_asyncio.apply()\n",
    "\n",
    "from src import telegram"
   ]
  },
  {
   "cell_type": "code",
   "execution_count": null,
   "metadata": {},
   "outputs": [],
   "source": [
    "%run src/telegram.py"
   ]
  },
  {
   "attachments": {},
   "cell_type": "markdown",
   "metadata": {},
   "source": [
    "## Modelle verkleinern"
   ]
  },
  {
   "cell_type": "code",
   "execution_count": 1,
   "metadata": {},
   "outputs": [],
   "source": [
    "from src import prediction\n",
    "import pickle"
   ]
  },
  {
   "cell_type": "code",
   "execution_count": null,
   "metadata": {},
   "outputs": [],
   "source": [
    "models, ct = prediction.load_models()\n",
    "backup = models.copy()"
   ]
  },
  {
   "cell_type": "code",
   "execution_count": null,
   "metadata": {},
   "outputs": [],
   "source": [
    "for name, model in models.items():\n",
    "    print(name)\n",
    "    print(\"save backup in archive...\")\n",
    "    with open(\"src/models/Archiv/\"+name+\".pickle\", \"wb\") as handle:\n",
    "        pickle.dump(model, handle, protocol=pickle.HIGHEST_PROTOCOL)\n",
    "    print(\"delete some unneeded data...\")\n",
    "    model[\"X\"] = model[\"X\"].iloc[0:0]\n",
    "    for y_name, y in model[\"Y\"].items():\n",
    "        model[\"Y\"][y_name] =model[\"Y\"][y_name].iloc[0:0]\n",
    "    with open(\"src/models/\"+name+\".pickle\", \"wb\") as handle:\n",
    "        pickle.dump(model, handle, protocol=pickle.HIGHEST_PROTOCOL)"
   ]
  }
 ],
 "metadata": {
  "kernelspec": {
   "display_name": "Python 3",
   "language": "python",
   "name": "python3"
  },
  "language_info": {
   "codemirror_mode": {
    "name": "ipython",
    "version": 3
   },
   "file_extension": ".py",
   "mimetype": "text/x-python",
   "name": "python",
   "nbconvert_exporter": "python",
   "pygments_lexer": "ipython3",
   "version": "3.9.1"
  },
  "orig_nbformat": 4,
  "vscode": {
   "interpreter": {
    "hash": "11938c6bc6919ae2720b4d5011047913343b08a43b18698fd82dedb0d4417594"
   }
  }
 },
 "nbformat": 4,
 "nbformat_minor": 2
}
